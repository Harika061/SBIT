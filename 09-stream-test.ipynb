{
 "cells": [
  {
   "cell_type": "code",
   "execution_count": 0,
   "metadata": {
    "application/vnd.databricks.v1+cell": {
     "cellMetadata": {},
     "inputWidgets": {},
     "nuid": "9af01383-ba8f-4ed3-8cab-7356a9f30f47",
     "showTitle": false,
     "tableResultSettingsMap": {},
     "title": ""
    }
   },
   "outputs": [],
   "source": [
    "dbutils.widgets.text(\"Environment\", \"dev\", \"Set the current environment/catalog name\")\n",
    "dbutils.widgets.text(\"Host\", \"\", \"Databricks Workspace URL\")\n",
    "dbutils.widgets.text(\"AccessToken\", \"\", \"Secure Access Token\")"
   ]
  },
  {
   "cell_type": "code",
   "execution_count": 0,
   "metadata": {
    "application/vnd.databricks.v1+cell": {
     "cellMetadata": {},
     "inputWidgets": {},
     "nuid": "80313780-051c-46e1-8afb-0223a796e4fd",
     "showTitle": false,
     "tableResultSettingsMap": {},
     "title": ""
    }
   },
   "outputs": [],
   "source": [
    "env = dbutils.widgets.get(\"Environment\")\n",
    "host = dbutils.widgets.get(\"Host\")\n",
    "token = dbutils.widgets.get(\"AccessToken\")"
   ]
  },
  {
   "cell_type": "code",
   "execution_count": 0,
   "metadata": {
    "application/vnd.databricks.v1+cell": {
     "cellMetadata": {},
     "inputWidgets": {},
     "nuid": "b7960624-058f-4334-999f-7a32f56a1683",
     "showTitle": false,
     "tableResultSettingsMap": {},
     "title": ""
    }
   },
   "outputs": [],
   "source": [
    "%run ./02-setup"
   ]
  },
  {
   "cell_type": "code",
   "execution_count": 0,
   "metadata": {
    "application/vnd.databricks.v1+cell": {
     "cellMetadata": {},
     "inputWidgets": {},
     "nuid": "6c263ba2-6277-4e9b-9d54-b5cc2c118d7d",
     "showTitle": false,
     "tableResultSettingsMap": {},
     "title": ""
    }
   },
   "outputs": [],
   "source": [
    "SH = SetupHelper(env)\n",
    "SH.cleanup()"
   ]
  },
  {
   "cell_type": "code",
   "execution_count": 0,
   "metadata": {
    "application/vnd.databricks.v1+cell": {
     "cellMetadata": {},
     "inputWidgets": {},
     "nuid": "41653d1e-9fbd-45cf-9b23-ef540626077e",
     "showTitle": false,
     "tableResultSettingsMap": {},
     "title": ""
    }
   },
   "outputs": [],
   "source": [
    "job_payload = \\\n",
    "{\n",
    "        \"name\": \"stream-test\",\n",
    "        \"webhook_notifications\": {},\n",
    "        \"timeout_seconds\": 0,\n",
    "        \"max_concurrent_runs\": 1,\n",
    "        \"tasks\": [\n",
    "            {\n",
    "                \"task_key\": \"stream-test-task\",\n",
    "                \"run_if\": \"ALL_SUCCESS\",\n",
    "                \"notebook_task\": {\n",
    "                    \"notebook_path\": \"/Repos/SBIT/SBIT/07-run\",\n",
    "                    \"source\": \"WORKSPACE\"\n",
    "                },\n",
    "                \"job_cluster_key\": \"Job_cluster\",\n",
    "                \"timeout_seconds\": 0,\n",
    "                \"email_notifications\": {}\n",
    "            }\n",
    "        ],\n",
    "        \"job_clusters\": [\n",
    "            {\n",
    "                \"job_cluster_key\": \"Job_cluster\",\n",
    "                \"new_cluster\": {\n",
    "                    \"spark_version\": \"13.3.x-scala2.12\",\n",
    "                    \"spark_conf\": {\n",
    "                        \"spark.databricks.delta.preview.enabled\": \"true\",\n",
    "                        \"spark.master\": \"local[*, 4]\",\n",
    "                        \"spark.databricks.cluster.profile\": \"singleNode\"\n",
    "                    },\n",
    "                    \"azure_attributes\": {\n",
    "                        \"first_on_demand\": 1,\n",
    "                        \"availability\": \"ON_DEMAND_AZURE\",\n",
    "                        \"spot_bid_max_price\": -1\n",
    "                    },\n",
    "                    \"node_type_id\": \"Standard_DS4_v2\",\n",
    "                    \"driver_node_type_id\": \"Standard_DS4_v2\",\n",
    "                    \"custom_tags\": {\n",
    "                        \"ResourceClass\": \"SingleNode\"\n",
    "                    },\n",
    "                    \"data_security_mode\": \"SINGLE_USER\",\n",
    "                    \"runtime_engine\": \"STANDARD\",\n",
    "                    \"num_workers\": 0\n",
    "                }\n",
    "            }\n",
    "        ],\n",
    "        \"format\": \"MULTI_TASK\"\n",
    "    }"
   ]
  },
  {
   "cell_type": "code",
   "execution_count": 0,
   "metadata": {
    "application/vnd.databricks.v1+cell": {
     "cellMetadata": {},
     "inputWidgets": {},
     "nuid": "815d1141-9e0c-40f6-ba4e-dca0b8c88e6e",
     "showTitle": false,
     "tableResultSettingsMap": {},
     "title": ""
    }
   },
   "outputs": [],
   "source": [
    "# Create a streaming job\n",
    "import requests\n",
    "import json\n",
    "create_response = requests.post(host + '/api/2.1/jobs/create', data=json.dumps(job_payload), auth=(\"token\", token))\n",
    "print(f\"Response: {create_response}\")\n",
    "job_id = json.loads(create_response.content.decode('utf-8'))[\"job_id\"]\n",
    "print(f\"Created Job {job_id}\")"
   ]
  },
  {
   "cell_type": "code",
   "execution_count": 0,
   "metadata": {
    "application/vnd.databricks.v1+cell": {
     "cellMetadata": {},
     "inputWidgets": {},
     "nuid": "35ecd8d9-3468-49e7-aaae-9db345e028fd",
     "showTitle": false,
     "tableResultSettingsMap": {},
     "title": ""
    }
   },
   "outputs": [],
   "source": [
    "run_payload = {\"job_id\": job_id, \"notebook_params\": {\"Environment\":env, \"RunType\": \"stream\", \"ProcessingTime\": \"1 seconds\"}}\n",
    "run_response = requests.post(host + '/api/2.1/jobs/run-now', data=json.dumps(run_payload), auth=(\"token\", token))\n",
    "run_id = json.loads(run_response.content.decode('utf-8'))[\"run_id\"]\n",
    "print(f\"Started Job run {run_id}\")"
   ]
  },
  {
   "cell_type": "code",
   "execution_count": 0,
   "metadata": {
    "application/vnd.databricks.v1+cell": {
     "cellMetadata": {},
     "inputWidgets": {},
     "nuid": "bbac26c6-9f68-48ef-90d7-1f0c4fcdfc30",
     "showTitle": false,
     "tableResultSettingsMap": {},
     "title": ""
    }
   },
   "outputs": [],
   "source": [
    "# Wait until job starts\n",
    "import time\n",
    "status_payload = {\"run_id\": run_id}\n",
    "job_status=\"PENDING\"\n",
    "while job_status == \"PENDING\":\n",
    "    time.sleep(20)\n",
    "    status_job_response = requests.get(host + '/api/2.1/jobs/runs/get', data=json.dumps(status_payload), auth=(\"token\", token))\n",
    "    job_status = json.loads(status_job_response.content.decode('utf-8'))[\"tasks\"][0][\"state\"][\"life_cycle_state\"]  \n",
    "    print(job_status)  "
   ]
  },
  {
   "cell_type": "code",
   "execution_count": 0,
   "metadata": {
    "application/vnd.databricks.v1+cell": {
     "cellMetadata": {},
     "inputWidgets": {},
     "nuid": "75a446ec-ed23-4443-a79f-173f408ca987",
     "showTitle": false,
     "tableResultSettingsMap": {},
     "title": ""
    }
   },
   "outputs": [],
   "source": [
    "%run ./03-history-loader"
   ]
  },
  {
   "cell_type": "code",
   "execution_count": 0,
   "metadata": {
    "application/vnd.databricks.v1+cell": {
     "cellMetadata": {},
     "inputWidgets": {},
     "nuid": "96f2d8ee-0277-4985-9df0-eb64f3241296",
     "showTitle": false,
     "tableResultSettingsMap": {},
     "title": ""
    }
   },
   "outputs": [],
   "source": [
    "%run ./10-producer"
   ]
  },
  {
   "cell_type": "code",
   "execution_count": 0,
   "metadata": {
    "application/vnd.databricks.v1+cell": {
     "cellMetadata": {},
     "inputWidgets": {},
     "nuid": "cef30642-99ce-4941-8f4a-55dc5089e8f6",
     "showTitle": false,
     "tableResultSettingsMap": {},
     "title": ""
    }
   },
   "outputs": [],
   "source": [
    "%run ./04-bronze"
   ]
  },
  {
   "cell_type": "code",
   "execution_count": 0,
   "metadata": {
    "application/vnd.databricks.v1+cell": {
     "cellMetadata": {},
     "inputWidgets": {},
     "nuid": "c9364b21-f6ad-409e-b5b8-a2e316a29f7c",
     "showTitle": false,
     "tableResultSettingsMap": {},
     "title": ""
    }
   },
   "outputs": [],
   "source": [
    "%run ./05-silver"
   ]
  },
  {
   "cell_type": "code",
   "execution_count": 0,
   "metadata": {
    "application/vnd.databricks.v1+cell": {
     "cellMetadata": {},
     "inputWidgets": {},
     "nuid": "04721ab7-a568-4290-b06f-8a753404f8cb",
     "showTitle": false,
     "tableResultSettingsMap": {},
     "title": ""
    }
   },
   "outputs": [],
   "source": [
    "%run ./06-gold"
   ]
  },
  {
   "cell_type": "code",
   "execution_count": 0,
   "metadata": {
    "application/vnd.databricks.v1+cell": {
     "cellMetadata": {},
     "inputWidgets": {},
     "nuid": "46a3330e-0580-4fb9-a27d-b4469afdf6a8",
     "showTitle": false,
     "tableResultSettingsMap": {},
     "title": ""
    }
   },
   "outputs": [],
   "source": [
    "\n",
    "\n",
    "import time\n",
    "\n",
    "print(\"Sleep for 2 minutes and let setup and history loader finish...\")\n",
    "time.sleep(2*60)\n",
    "\n",
    "#Validate setup and history load\n",
    "HL = HistoryLoader(env)\n",
    "PR = Producer()\n",
    "BZ = Bronze(env)\n",
    "SL = Silver(env)\n",
    "GL = Gold(env)\n",
    "\n",
    "SH.validate()\n",
    "HL.validate()\n",
    "\n",
    "#Produce some incremantal\n",
    "PR.produce(1)\n",
    "PR.validate(1)"
   ]
  },
  {
   "cell_type": "code",
   "execution_count": 0,
   "metadata": {
    "application/vnd.databricks.v1+cell": {
     "cellMetadata": {},
     "inputWidgets": {},
     "nuid": "e397fab7-05b8-4f1a-a305-d190377726be",
     "showTitle": false,
     "tableResultSettingsMap": {},
     "title": ""
    }
   },
   "outputs": [],
   "source": [
    "print(\"Sleep for 2 minutes and let microbatch pickup the data...\")\n",
    "time.sleep(2*60)\n",
    "\n",
    "#Validate bronze, silver and gold layer \n",
    "BZ.validate(1)\n",
    "SL.validate(1)\n",
    "GL.validate(1)\n",
    " \n",
    "\n",
    "#Produce some incremantal data and wait for micro batch\n",
    "PR.produce(2)\n",
    "PR.validate(2)"
   ]
  },
  {
   "cell_type": "code",
   "execution_count": 0,
   "metadata": {
    "application/vnd.databricks.v1+cell": {
     "cellMetadata": {},
     "inputWidgets": {},
     "nuid": "68dee02e-1e74-42aa-9054-802d0d0f325b",
     "showTitle": false,
     "tableResultSettingsMap": {},
     "title": ""
    }
   },
   "outputs": [],
   "source": [
    "print(\"Sleep for 2 minutes and let microbatch pickup the data...\")\n",
    "time.sleep(2*60)\n",
    "\n",
    "#Validate bronze, silver and gold layer \n",
    "BZ.validate(2)\n",
    "SL.validate(2)\n",
    "GL.validate(2)"
   ]
  },
  {
   "cell_type": "code",
   "execution_count": 0,
   "metadata": {
    "application/vnd.databricks.v1+cell": {
     "cellMetadata": {},
     "inputWidgets": {},
     "nuid": "ef291a54-3dc0-409b-ab7c-aa6ba28ae5d9",
     "showTitle": false,
     "tableResultSettingsMap": {},
     "title": ""
    }
   },
   "outputs": [],
   "source": [
    "#Terminate the streaming Job\n",
    "cancel_payload = {\"run_id\": run_id}\n",
    "cancel_response = requests.post(host + '/api/2.1/jobs/runs/cancel', data=json.dumps(cancel_payload), auth=(\"token\", token))\n",
    "print(f\"Canceled Job run {run_id}. Status {cancel_response}\")"
   ]
  },
  {
   "cell_type": "code",
   "execution_count": 0,
   "metadata": {
    "application/vnd.databricks.v1+cell": {
     "cellMetadata": {},
     "inputWidgets": {},
     "nuid": "ead9a88b-f8ab-450a-831e-bcb59f096cf9",
     "showTitle": false,
     "tableResultSettingsMap": {},
     "title": ""
    }
   },
   "outputs": [],
   "source": [
    "#Delete the Job\n",
    "delete_job_payload = {\"job_id\": job_id}\n",
    "delete_job_response = requests.post(host + '/api/2.1/jobs/delete', data=json.dumps(delete_job_payload), auth=(\"token\", token))\n",
    "print(f\"Canceled Job run {run_id}. Status {delete_job_response}\")"
   ]
  },
  {
   "cell_type": "code",
   "execution_count": 0,
   "metadata": {
    "application/vnd.databricks.v1+cell": {
     "cellMetadata": {},
     "inputWidgets": {},
     "nuid": "98f9f1d0-abf3-4a0c-892d-056dcbe93f5e",
     "showTitle": false,
     "tableResultSettingsMap": {},
     "title": ""
    }
   },
   "outputs": [],
   "source": [
    "dbutils.notebook.exit(\"SUCCESS\")"
   ]
  }
 ],
 "metadata": {
  "application/vnd.databricks.v1+notebook": {
   "computePreferences": null,
   "dashboards": [],
   "environmentMetadata": {
    "base_environment": "",
    "environment_version": "2"
   },
   "inputWidgetPreferences": null,
   "language": "python",
   "notebookMetadata": {
    "pythonIndentUnit": 4
   },
   "notebookName": "09-stream-test",
   "widgets": {}
  },
  "language_info": {
   "name": "python"
  }
 },
 "nbformat": 4,
 "nbformat_minor": 0
}
