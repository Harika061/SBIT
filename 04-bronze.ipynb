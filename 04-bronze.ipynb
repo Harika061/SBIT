{
 "cells": [
  {
   "cell_type": "code",
   "execution_count": 0,
   "metadata": {
    "application/vnd.databricks.v1+cell": {
     "cellMetadata": {},
     "inputWidgets": {},
     "nuid": "a5733f65-6251-4576-8d8f-3f439c2497b3",
     "showTitle": false,
     "tableResultSettingsMap": {},
     "title": ""
    }
   },
   "outputs": [],
   "source": [
    "class Bronze():\n",
    "    def __init_(self, env):\n",
    "        self. Conf = Config()\n",
    "        self. landing zone = self. Conf.base_dir_data + \"/raw\"\n",
    "        self. checkpoint_base = self.Conf.base_dir_checkpoint + \"/checkpoints\"\n",
    "        self. catalog = env\n",
    "        self.db_name = self. Conf. db_name\n",
    "        spark. sql(f\"USE {self. atalog}.{self :db_name}\")\n",
    "    def consume_user_registration (self, once=True, processing_time=\"5 seconds\") :\n",
    "        from pyspark.sql import functions as F\n",
    "        schema = \"user_id long, device_id long, mac_address string, registration_timestamp double\"\n",
    "        df_ stream = (spark. readStream\n",
    "                    .format (\"cloudFiles\")\n",
    "                    .schema (schema)\n",
    "                    .option (\"maxFilesPerTrigger\", 1)\n",
    "                    .option (\"cloudFiles. format\", \"cs\")\n",
    "                    .option (\"header\", \"true\")\n",
    "                    .load (self. landing_zone + \"/registered_users_bz\")\n",
    "                    .withColumn (\"load_time\", F.current_timestamp ())\n",
    "                    .withColumn (\"source_file\", F.input_file_name())\n",
    "                    )\n",
    "        stream writer = df_stream.writeStream \\\n",
    "                        .format (\"delta\") \\\n",
    "                        .option (\"checkpointLocation\", self. checkpoint_base + \"/gym_ logins_bz\") |\n",
    "                        .outputMode (\"append\") \\\n",
    "                        .queryName (\"gym_logins_bz_ingestion_ stream\")\n",
    "        spark. sparkContext.setLocalProperty (\"spark.scheduler.pool\", \"bronze_p2\")\n",
    "        if once == True:\n",
    "            return stream writer. trigger (availableNow=True). toTable(f\" {self. catalog}.{self.db_name} - gym_logins_bz\")\n",
    "        else:\n",
    "            return stream writer. trigger (processingTime=processing_time). toTable(f\"{self.catalog}.{self.db_name}. gym_logins_bz\")\n",
    "        \n",
    "    def consume_kafka_multiple(self, once-True, processing_time=\"5 seconds\") :\n",
    "        from pyspark.sql import functions as F\n",
    "        schema = \"key string, value string, topic string, partition bigint, offset bigint, timestamp bigint\"\n",
    "        df _date_lookup = spark. table(f\" {self.catalog}. {self.db_name} date_lookup\"). select (\"date\", \"week_part\")\n",
    "        d_stream = (spark. readStream\n",
    "                    .format (\"cloudFiles\")\n",
    "                    .schema (schema)\n",
    "                    .option (\"maxFilesPerTrigger\", 1)\n",
    "                    .option (\"cloudFiles. format\", \"json\")\n",
    "                    .load (self. landing_zone + \"/kafka_multiplex_bz\")\n",
    "                    .withColumn (\"load_time\", F.current_timestamp ())\n",
    "                    .withColumn (\"source_file\", F. input_file_name ())\n",
    "                    .join (F. broadcast (df _date_lookup),\n",
    "                        [F. to _date((F.col (\"timestamp\") /1000). cast (\"timestamp\")) == F. col (\"date\")],\n",
    "                    \"left\")\n",
    "        # Use append mode because bronze layer is expected to insert only from source\n",
    "        stream writer = df_stream.writeStream/\n",
    "                        .format(\"delta\") \\\n",
    "                        .option (\"checkpointLocation\", self.checkpoint_base + \"/kafka_multiplex_bz\") \\\n",
    "                        .outputMode (\"append\" ) \\\n",
    "                        .queryName (\"kafka_multiplex_bz_ingestion_stream\")"
   ]
  }
 ],
 "metadata": {
  "application/vnd.databricks.v1+notebook": {
   "computePreferences": null,
   "dashboards": [],
   "environmentMetadata": {
    "base_environment": "",
    "environment_version": "2"
   },
   "inputWidgetPreferences": null,
   "language": "python",
   "notebookMetadata": {
    "pythonIndentUnit": 4
   },
   "notebookName": "04-bronze",
   "widgets": {}
  },
  "language_info": {
   "name": "python"
  }
 },
 "nbformat": 4,
 "nbformat_minor": 0
}
