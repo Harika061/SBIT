{
 "cells": [
  {
   "cell_type": "code",
   "execution_count": 0,
   "metadata": {
    "application/vnd.databricks.v1+cell": {
     "cellMetadata": {
      "byteLimit": 2048000,
      "rowLimit": 10000
     },
     "inputWidgets": {},
     "nuid": "84d0ac95-90dc-4fe2-9c1b-057a607fa2e5",
     "showTitle": false,
     "tableResultSettingsMap": {},
     "title": ""
    }
   },
   "outputs": [],
   "source": [
    "%run ./01-config"
   ]
  },
  {
   "cell_type": "code",
   "execution_count": 0,
   "metadata": {
    "application/vnd.databricks.v1+cell": {
     "cellMetadata": {
      "byteLimit": 2048000,
      "rowLimit": 10000
     },
     "inputWidgets": {},
     "nuid": "e6d37aaf-f61c-49df-ae1b-5f48109a7b83",
     "showTitle": false,
     "tableResultSettingsMap": {},
     "title": ""
    }
   },
   "outputs": [],
   "source": [
    "class HistoryLoader:\n",
    "    def __init__(self, env):\n",
    "        Conf = Config()\n",
    "        self. landing_zone = Conf.base_dir_data + \"/raw\"\n",
    "        self. test_data_dir = Conf.base_dir_data + \"/test_data\"\n",
    "        self.catalog = env\n",
    "        self.db_name = Conf.db_name\n",
    "    \n",
    "    def load_date_lookup(self):\n",
    "        print (f\"Loading date_lookup table...\", end='')\n",
    "        spark.sql(f\"\"\"INSERT OVERWRITE TABLE {self.catalog}.{self.db_name}.date_lookup\n",
    "        SELECT date, week, year, month, dayofweek, dayofmonth, dayofyear, week_part\n",
    "        FROM json.`{self.test_data_dir}/6-date-lookup.json/`\"\"\")\n",
    "        print (\"Done\")\n",
    "\n",
    "    def load_history(self):\n",
    "        import time\n",
    "        start = int (time.time ())\n",
    "        print (f\"\\nStarting historical data load...\")\n",
    "        self.load_date_lookup()\n",
    "        print(f\"Historical data load completed in {int(time.time()) - start} seconds\")\n",
    "\n",
    "    def assert_count(self, table_name, expected_count):\n",
    "        print (f\"Validating record counts in (table_name)...\", end='')\n",
    "        actual_count = spark.read_table(f\"{self.catalog}.{self.db_name}.{table_name}\").count()\n",
    "        assert actual_count == expected_count, f\"Expected {expected_count:,} records, found {actual_count:,} in {table_name}\"\n",
    "        print (f\"Found {actual_count:,} / Expected {expected_count: ,} records: Success\")\n",
    "\n",
    "    def validate(self) :\n",
    "        import time\n",
    "        start = int(time.time())\n",
    "        print(f\"\\n Starting historical data load validation...\")\n",
    "        self.assert_count(f\"date_lookup\", 365)\n",
    "        print (f\"Historical data load validation completed in {int(time.time()) - start} seconds\")"
   ]
  },
  {
   "cell_type": "code",
   "execution_count": 0,
   "metadata": {
    "application/vnd.databricks.v1+cell": {
     "cellMetadata": {
      "byteLimit": 2048000,
      "rowLimit": 10000
     },
     "inputWidgets": {},
     "nuid": "a41c2db5-03b4-40c6-b4ab-ff19186562a5",
     "showTitle": false,
     "tableResultSettingsMap": {},
     "title": ""
    }
   },
   "outputs": [],
   "source": [
    "HL=HistoryLoader(\"dev\")\n",
    "HL.load_history()"
   ]
  },
  {
   "cell_type": "code",
   "execution_count": 0,
   "metadata": {
    "application/vnd.databricks.v1+cell": {
     "cellMetadata": {},
     "inputWidgets": {},
     "nuid": "d0198d9a-36ed-4d15-b7fc-743e16e09978",
     "showTitle": false,
     "tableResultSettingsMap": {},
     "title": ""
    }
   },
   "outputs": [],
   "source": []
  }
 ],
 "metadata": {
  "application/vnd.databricks.v1+notebook": {
   "computePreferences": null,
   "dashboards": [],
   "environmentMetadata": {
    "base_environment": "",
    "environment_version": "2"
   },
   "inputWidgetPreferences": null,
   "language": "python",
   "notebookMetadata": {
    "pythonIndentUnit": 4
   },
   "notebookName": "03-history-loader",
   "widgets": {}
  },
  "language_info": {
   "name": "python"
  }
 },
 "nbformat": 4,
 "nbformat_minor": 0
}
