{
 "cells": [
  {
   "cell_type": "code",
   "execution_count": 0,
   "metadata": {
    "application/vnd.databricks.v1+cell": {
     "cellMetadata": {},
     "inputWidgets": {},
     "nuid": "18042daf-413a-4fbb-addd-e265bef25169",
     "showTitle": false,
     "tableResultSettingsMap": {},
     "title": ""
    }
   },
   "outputs": [],
   "source": [
    "spark.sql(\"CREATE DATABASE IF NOT EXISTS sbit_db\")\n",
    "spark.sql(\"CREATE CATALOG IF NOT EXISTS dev\")\n",
    "\n",
    "\n",
    "\n",
    "# Use the database\n",
    "spark.sql(\"USE sbit_db\")\n",
    "\n",
    "# Use the new catalog\n",
    "spark.sql(\"USE CATALOG dev\")\n",
    "\n",
    "class Config():\n",
    "    def __init__(self):\n",
    "        #self.base_dir_data = spark.sql(\"describe external location `data zone`\").select(\"url\").collect()[0][0]\n",
    "        #self.base_dir_checkpoint = spark.sql(\"describe external location `checkpoint`\").select(\"url\").collect()[0][0]\n",
    "        self.base_dir_data = \"/Volumes/workspace/sbit_db/data\"\n",
    "        self.base_dir_checkpoint = \"/Volumes/workspace/sbit_db/checkpoints\"\n",
    "        self.db_name = \"sbit_db\" \n",
    "        self.maxFilesPerTrigger = 1000"
   ]
  }
 ],
 "metadata": {
  "application/vnd.databricks.v1+notebook": {
   "computePreferences": null,
   "dashboards": [],
   "environmentMetadata": {
    "base_environment": "",
    "environment_version": "2"
   },
   "inputWidgetPreferences": null,
   "language": "python",
   "notebookMetadata": {
    "pythonIndentUnit": 4
   },
   "notebookName": "01-config",
   "widgets": {}
  },
  "language_info": {
   "name": "python"
  }
 },
 "nbformat": 4,
 "nbformat_minor": 0
}
