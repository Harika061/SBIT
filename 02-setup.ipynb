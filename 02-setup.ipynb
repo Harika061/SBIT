{
 "cells": [
  {
   "cell_type": "code",
   "execution_count": 0,
   "metadata": {
    "application/vnd.databricks.v1+cell": {
     "cellMetadata": {},
     "inputWidgets": {},
     "nuid": "a09b8ae6-66f1-469e-8c20-42d6901c32a3",
     "showTitle": false,
     "tableResultSettingsMap": {},
     "title": ""
    }
   },
   "outputs": [],
   "source": [
    "class SetupHelper() :\n",
    "    def __init__(self, env):\n",
    "        Conf = Config()\n",
    "        self. landing_zone = Conf.base_dir_data + \"/raw\"\n",
    "        self. checkpoint_base = Conf.base_dir_checkpoint + \"/checkpoints\"\n",
    "        self.catalog = env\n",
    "        self.db_name = Conf.db_name\n",
    "        self. initialized = False\n",
    "\n",
    "    def create_db(self):\n",
    "        spark.catalog.clearCache()\n",
    "            print(f\"Creating the database {self.catalog} .{self.db_name}...\", end='\")\n",
    "            spark.sql(f\"CREATE DATABASE IF NOT EXISTS {self.catalog}. {self.db_name}\")\n",
    "            spark.sql(f\"USE {self.catalog} .{self.db_name}\")\n",
    "            self.initialized = True\n",
    "            print (\"Done\")\n",
    "    \n",
    "    def create_registered_users_bz(self):\n",
    "        if(self.initialized):\n",
    "            print(f\"Creating registered_users bz table...\", end='')\n",
    "            spark.sql(f\"\"\"CREATE TABLE IF NOT EXISTS {self.catalog}.{self.db_name}.registered_users_b(\n",
    "                    user_id long,\n",
    "                    device_id long, \n",
    "                    mac_address string, \n",
    "                    registration_timestamp double, \n",
    "                    load_time timestamp, \n",
    "                    source_file string\n",
    "                    )\n",
    "                    \"\"\")\n",
    "            print(\"Done\")\n",
    "        else:\n",
    "            raise ReferenceError (\"Application database is not defined. Cannot create table in default database.\")\n",
    "            \n",
    "def create_gym_logins_bz(self):\n",
    "    if(self.initialized):\n",
    "        print(f°Creating gym_logins_bz table....\" end='')\n",
    "        spark.sql(f\"\"\"CREATE OR REPLACE TABLE {self.catalog}.{self.db_name}.gym_logins_bz(\n",
    "                mac_address string, gym bigint, login double, logout double, load_time tinestamp, source_file string\n",
    "print (\"Done\")\n",
    "else:\n",
    "/\n",
    "raise ReferenceError (\"Application database is not defined. Cannot create table in default database.\")\n",
    "def create_kafka_multiplex_bz(self):\n",
    "if(self.initialized):\n",
    "print(f\"Creating kafka_multiplex_bz table...\", end-*)\n",
    "spark.sql(f*#\"CREATE TABLE IF NOT EXISTS (self.catalog).(self.db_name].kafka_multiplex bzt\n",
    "key string, value string, topic string, partition bigint, offset bigint,"
   ]
  }
 ],
 "metadata": {
  "application/vnd.databricks.v1+notebook": {
   "computePreferences": null,
   "dashboards": [],
   "environmentMetadata": {
    "base_environment": "",
    "environment_version": "2"
   },
   "inputWidgetPreferences": null,
   "language": "python",
   "notebookMetadata": {
    "pythonIndentUnit": 4
   },
   "notebookName": "02-setup",
   "widgets": {}
  },
  "language_info": {
   "name": "python"
  }
 },
 "nbformat": 4,
 "nbformat_minor": 0
}
